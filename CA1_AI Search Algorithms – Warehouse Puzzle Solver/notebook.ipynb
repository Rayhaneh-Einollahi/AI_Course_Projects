{
 "cells": [
  {
   "cell_type": "code",
   "execution_count": 1,
   "metadata": {},
   "outputs": [],
   "source": [
    "from game import Game\n",
    "import time\n",
    "import os\n",
    "import re\n",
    "from heapq import heappop, heappush\n",
    "from collections import deque\n",
    "import time\n"
   ]
  },
  {
   "cell_type": "markdown",
   "metadata": {},
   "source": [
    "## Load maps"
   ]
  },
  {
   "cell_type": "code",
   "execution_count": 2,
   "metadata": {},
   "outputs": [],
   "source": [
    "def extract_map_files(directory):\n",
    "    pattern = re.compile(r'^map(\\d+)\\.txt$')\n",
    "    map_file_indices = []\n",
    "\n",
    "    for file_name in os.listdir(directory):\n",
    "        match = pattern.match(file_name)\n",
    "        if match:\n",
    "            map_file_indices.append(match.group(1))\n",
    "\n",
    "    return [int(idx) for idx in map_file_indices]\n",
    "\n",
    "def is_valid_input(map, indices, algorithm, solvers):\n",
    "    valid_input = True\n",
    "    if map not in indices:\n",
    "        print(f\"Map index out of range. Please choose within range {min(indices)} to {max(indices)}\")\n",
    "        valid_input = False\n",
    "    if algorithm not in solvers.keys():    \n",
    "        print(f\"{algorithm} is not a defined algorithm. Please choose from\", *[f\"{solver} ({i+1})  \" for i, solver in enumerate(solvers.keys())])\n",
    "        valid_input = False\n",
    "    return valid_input\n",
    "\n",
    "def load_map(map_index):  \n",
    "    file_name = \"map\" + str(map_index) + \".txt\"\n",
    "    with open('./assets/maps/' + file_name) as f:\n",
    "        game_map = f.read()\n",
    "    return game_map\n",
    "\n",
    "map_file_indices = extract_map_files(\"./assets/maps/\")"
   ]
  },
  {
   "cell_type": "markdown",
   "metadata": {},
   "source": [
    "## Tutorial"
   ]
  },
  {
   "cell_type": "code",
   "execution_count": 3,
   "metadata": {},
   "outputs": [
    {
     "name": "stdout",
     "output_type": "stream",
     "text": [
      "This is an example of the game map:\n",
      "W\tP1\tH\tW\tW\tW\tW\n",
      "W\tW\tW\tG1\tW\tW\tW\n",
      "W\tW\tW\tB1\tW\tW\tW\n",
      "W\tG2\tB2\t.\tP1\tW\tW\n",
      "W\tW\tW\tB3\tW\tW\tW\n",
      "W\tW\tW\tG3\tW\tW\tW\n",
      "W\tW\tW\tW\tW\tW\tW\n"
     ]
    }
   ],
   "source": [
    "print(\"This is an example of the game map:\")\n",
    "map = load_map(2)\n",
    "game = Game(map)\n",
    "game.display_map()"
   ]
  },
  {
   "cell_type": "code",
   "execution_count": 4,
   "metadata": {},
   "outputs": [
    {
     "data": {
      "text/plain": [
       "[(2, 3), (3, 2), (4, 3)]"
      ]
     },
     "execution_count": 4,
     "metadata": {},
     "output_type": "execute_result"
    }
   ],
   "source": [
    "game.get_box_locations()"
   ]
  },
  {
   "cell_type": "code",
   "execution_count": 5,
   "metadata": {},
   "outputs": [
    {
     "data": {
      "text/plain": [
       "[(1, 3), (3, 1), (5, 3)]"
      ]
     },
     "execution_count": 5,
     "metadata": {},
     "output_type": "execute_result"
    }
   ],
   "source": [
    "game.get_goal_locations()"
   ]
  },
  {
   "cell_type": "code",
   "execution_count": 6,
   "metadata": {},
   "outputs": [
    {
     "data": {
      "text/plain": [
       "(0, 2)"
      ]
     },
     "execution_count": 6,
     "metadata": {},
     "output_type": "execute_result"
    }
   ],
   "source": [
    "game.get_player_position()"
   ]
  },
  {
   "cell_type": "markdown",
   "metadata": {},
   "source": [
    "- W : Wall\n",
    "- H : Human\n",
    "- B : Box\n",
    "- P : Portal\n",
    "- G : Goal"
   ]
  },
  {
   "cell_type": "code",
   "execution_count": 7,
   "metadata": {},
   "outputs": [
    {
     "name": "stdout",
     "output_type": "stream",
     "text": [
      "Move U is valid: False\n",
      "Move D is valid: False\n",
      "Move R is valid: False\n",
      "Move L is valid: True\n",
      "W\tP1\t.\tW\tW\tW\tW\n",
      "W\tW\tW\tG1\tW\tW\tW\n",
      "W\tW\tW\tB1\tW\tW\tW\n",
      "W\tG2\tB2\tH\tP1\tW\tW\n",
      "W\tW\tW\tB3\tW\tW\tW\n",
      "W\tW\tW\tG3\tW\tW\tW\n",
      "W\tW\tW\tW\tW\tW\tW\n"
     ]
    }
   ],
   "source": [
    "for direction in ['U', 'D', 'R', 'L']:\n",
    "    result = game.apply_move(direction)\n",
    "    print(f\"Move {direction} is valid: {result}\")\n",
    "    if result:\n",
    "        game.display_map()"
   ]
  },
  {
   "cell_type": "code",
   "execution_count": 8,
   "metadata": {},
   "outputs": [
    {
     "name": "stdout",
     "output_type": "stream",
     "text": [
      "W\tP1\t.\tW\tW\tW\tW\n",
      "W\tW\tW\tG1/B1\tW\tW\tW\n",
      "W\tW\tW\tH\tW\tW\tW\n",
      "W\tG2\tB2\t.\tP1\tW\tW\n",
      "W\tW\tW\tB3\tW\tW\tW\n",
      "W\tW\tW\tG3\tW\tW\tW\n",
      "W\tW\tW\tW\tW\tW\tW\n"
     ]
    }
   ],
   "source": [
    "game.apply_move('U')\n",
    "game.display_map()"
   ]
  },
  {
   "cell_type": "code",
   "execution_count": 9,
   "metadata": {},
   "outputs": [
    {
     "name": "stdout",
     "output_type": "stream",
     "text": [
      "W\tP1\t.\tW\tW\tW\tW\n",
      "W\tW\tW\tG1/B1\tW\tW\tW\n",
      "W\tW\tW\t.\tW\tW\tW\n",
      "W\tG2/B2\t.\t.\tP1\tW\tW\n",
      "W\tW\tW\tH\tW\tW\tW\n",
      "W\tW\tW\tG3/B3\tW\tW\tW\n",
      "W\tW\tW\tW\tW\tW\tW\n",
      "Is game won? True\n"
     ]
    }
   ],
   "source": [
    "game.apply_moves(['D', 'L', 'R', 'D']) \n",
    "game.display_map()\n",
    "print(\"Is game won?\", game.is_game_won())"
   ]
  },
  {
   "cell_type": "markdown",
   "metadata": {},
   "source": [
    "## Solvers"
   ]
  },
  {
   "cell_type": "code",
   "execution_count": 10,
   "metadata": {},
   "outputs": [],
   "source": [
    "STATE_LIMIT = int(8e5)\n",
    "\n",
    "class state:\n",
    "    def __init__ (self, player, boxes):\n",
    "        self.player = player\n",
    "        self.boxes = boxes\n",
    "    def __eq__(self, other):\n",
    "        return self.player == other.player and self.boxes == other.boxes\n",
    "\n",
    "    def __hash__(self):\n",
    "        return hash((self.player, frozenset(self.boxes)))\n",
    "\n",
    "    def __lt__(self, other):\n",
    "        return 0"
   ]
  },
  {
   "cell_type": "markdown",
   "metadata": {},
   "source": [
    "### BFS"
   ]
  },
  {
   "cell_type": "code",
   "execution_count": 11,
   "metadata": {},
   "outputs": [],
   "source": [
    "# TODO: Must return moves (if there is no solution return None), number of visited statesdef solver_bfs(game_map):\n",
    "def solver_bfs(game_map):\n",
    "    seen = set()\n",
    "\n",
    "    game = Game(game_map)\n",
    "    states = deque()\n",
    "    moves =  deque()\n",
    "\n",
    "    initSt = state(game.get_player_position(),game.get_box_locations())\n",
    "    states.append(initSt)\n",
    "    moves.append(\"\")\n",
    "\n",
    "\n",
    "\n",
    "    stateCount = 0\n",
    "    while states:\n",
    "        if stateCount >= STATE_LIMIT :\n",
    "            return None, 0\n",
    "        st = states.popleft()\n",
    "        mv = moves.popleft()\n",
    "\n",
    "        if st in seen:\n",
    "            continue\n",
    "        seen.add(st)\n",
    "        stateCount += 1\n",
    "        #game.display_map()\n",
    "        #print(\"----------------------\")\n",
    "        game.set_box_positions(st.boxes)\n",
    "        game.set_player_position(st.player)\n",
    "        if game.is_game_won() :\n",
    "            return mv, stateCount\n",
    "\n",
    "        for dir in ['U','D','L','R']:\n",
    "\n",
    "            if not  game.apply_move(dir):\n",
    "                continue\n",
    "\n",
    "            states.append(state(game.get_player_position(), game.get_box_locations()))\n",
    "            moves.append(mv + dir)\n",
    "            \n",
    "            game.set_box_positions(st.boxes)\n",
    "            game.set_player_position(st.player)\n",
    "\n",
    "    return None, 0"
   ]
  },
  {
   "cell_type": "markdown",
   "metadata": {},
   "source": [
    "### DFS"
   ]
  },
  {
   "cell_type": "code",
   "execution_count": 12,
   "metadata": {},
   "outputs": [],
   "source": [
    "# TODO: Must return moves (if there is no solution return None), number of visited statesdef solver_bfs(game_map):\n",
    "def solver_dfs(game_map, dlimit = -1):\n",
    "    seen = set()\n",
    "\n",
    "    game = Game(game_map)\n",
    "    states = deque()\n",
    "    moves =  deque()\n",
    "\n",
    "    initSt = state(game.get_player_position(),game.get_box_locations())\n",
    "    states.append((initSt,0))\n",
    "    moves.append(\"\")\n",
    "\n",
    "\n",
    "\n",
    "    stateCount = 0\n",
    "    while states:\n",
    "        if stateCount >= STATE_LIMIT :\n",
    "            return None, 0\n",
    "        st,d = states.pop()\n",
    "        mv = moves.pop()\n",
    "        if st in seen:\n",
    "            continue\n",
    "        seen.add(st)\n",
    "        stateCount += 1\n",
    "        #game.display_map()\n",
    "        #print(\"----------------------\")\n",
    "        game.set_box_positions(st.boxes)\n",
    "        game.set_player_position(st.player)\n",
    "        if game.is_game_won() :\n",
    "            return mv, stateCount\n",
    "        if d == dlimit :\n",
    "            continue\n",
    "        for dir in ['U','D','L','R']:\n",
    "\n",
    "            if not  game.apply_move(dir):\n",
    "                continue\n",
    "\n",
    "            states.append((state(game.get_player_position(), game.get_box_locations()),d+1))\n",
    "            moves.append(mv + dir)\n",
    "\n",
    "            game.set_box_positions(st.boxes)\n",
    "            game.set_player_position(st.player)\n",
    "\n",
    "    return None, 0"
   ]
  },
  {
   "cell_type": "markdown",
   "metadata": {},
   "source": [
    "### IDS"
   ]
  },
  {
   "cell_type": "code",
   "execution_count": 13,
   "metadata": {},
   "outputs": [],
   "source": [
    "# TODO: Must return moves, number of visited states\n",
    "MAX_DEPH = 200\n",
    "TIME_LIMIT = 100\n",
    "\n",
    "start = time.time()\n",
    "def solver_ids(game_map):\n",
    "    totalStates = 0\n",
    "    for d in range(1,MAX_DEPH):\n",
    "        if time.time() - start > TIME_LIMIT:\n",
    "            break\n",
    "        moves, cntStates = solver_dfs(game_map, d)\n",
    "        totalStates += cntStates\n",
    "        if moves != None:\n",
    "            return moves , totalStates\n",
    "    return None, 0"
   ]
  },
  {
   "cell_type": "markdown",
   "metadata": {},
   "source": [
    "### A*"
   ]
  },
  {
   "cell_type": "code",
   "execution_count": 14,
   "metadata": {},
   "outputs": [],
   "source": [
    "# TODO\n",
    "\n",
    "def dis(a, b) :\n",
    "    return abs(a[0] - b[0]) + abs(a[1] - b[1])\n",
    "\n",
    "def heuristic(game):\n",
    "    boxs = game.get_box_locations()\n",
    "    goals = game.get_goal_locations()\n",
    "    portals = game.get_portal_locations()\n",
    "\n",
    "    totalDis = 0\n",
    "    for i in range(len(boxs)):\n",
    "        mini = dis(boxs[i], goals[i])\n",
    "        for p1,p2 in portals:\n",
    "            mini = min(mini, dis(p1, boxs[i]) + dis(p2, goals[i]))\n",
    "            mini = min(mini, dis(p2, boxs[i]) + dis(p1, goals[i]))\n",
    "        totalDis += mini\n",
    "\n",
    "    return totalDis\n",
    "\n",
    "\n",
    "\n",
    "    \n",
    "\n",
    "# TODO: Must return moves, number of visited states\n",
    "def solver_astar(game_map, heuristic_func=heuristic, weight=10):\n",
    "    game = Game(game_map)\n",
    "    initSt = state(game.get_player_position(),game.get_box_locations())\n",
    "\n",
    "    minheap = []\n",
    "    heappush(minheap, (0, initSt, \"\"))\n",
    "    g = {initSt:0}\n",
    "    stateCount = 0\n",
    "\n",
    "    while minheap:\n",
    "        if stateCount >= STATE_LIMIT :\n",
    "            return None, 0\n",
    "        _, st, mv = heappop(minheap)\n",
    "        \n",
    "        stateCount += 1\n",
    "        game.set_box_positions(st.boxes)\n",
    "        game.set_player_position(st.player)\n",
    "        if game.is_game_won() :\n",
    "            return mv, stateCount\n",
    "\n",
    "        for dir in ['U','D','L','R']:\n",
    "            if not  game.apply_move(dir):\n",
    "                continue\n",
    "            adj = state(game.get_player_position(),game.get_box_locations())\n",
    "            if not adj in g or (g[adj]>g[st]+1):\n",
    "                g[adj] = g[st]+1\n",
    "                f = g[adj] + weight * heuristic_func(game)\n",
    "                heappush(minheap, (f, adj, mv+dir))\n",
    "            game.set_box_positions(st.boxes)\n",
    "            game.set_player_position(st.player)\n",
    "    \n",
    "    return None, 0"
   ]
  },
  {
   "cell_type": "markdown",
   "metadata": {},
   "source": [
    "## Solve"
   ]
  },
  {
   "cell_type": "code",
   "execution_count": 15,
   "metadata": {},
   "outputs": [],
   "source": [
    "SOLVERS = {\n",
    "    \"BFS\": solver_bfs,\n",
    "    \"DFS\": solver_dfs,\n",
    "    \"IDS\": solver_ids,\n",
    "    \"A*\": solver_astar\n",
    "}"
   ]
  },
  {
   "cell_type": "code",
   "execution_count": 16,
   "metadata": {},
   "outputs": [],
   "source": [
    "def solve(map, method):  \n",
    "    \n",
    "    if not is_valid_input(map, map_file_indices, method, SOLVERS):\n",
    "        return\n",
    "    \n",
    "    file_name = \"map\" + str(map) + \".txt\"\n",
    "    with open('./assets/maps/' + file_name) as f:\n",
    "        game_map = f.read()\n",
    "    \n",
    "    start_time = time.time()\n",
    "    moves, numof_visited_states = SOLVERS[method](game_map)\n",
    "    end_time = time.time()\n",
    "    print(f\"{method} took {round(end_time - start_time, 2)} seconds on map {map} and visited {numof_visited_states} states.\")\n",
    "    \n",
    "    if moves is None:\n",
    "        print(\"No Solution Found!\")\n",
    "    else:\n",
    "        print(f\"{len(moves)} moves were used: {moves}\")\n",
    "            "
   ]
  },
  {
   "cell_type": "code",
   "execution_count": 17,
   "metadata": {},
   "outputs": [
    {
     "name": "stdout",
     "output_type": "stream",
     "text": [
      "A* took 13.34 seconds on map 9 and visited 510181 states.\n",
      "81 moves were used: RRLURRUUUULUULDLDRRURDDDDRRDDRDLDLURULDRRULDLLUURURDLDRDDLULURURRURDRDLDLLULURURD\n"
     ]
    }
   ],
   "source": [
    "solve(9, \"A*\") # Solve map 1 using BFS"
   ]
  },
  {
   "cell_type": "code",
   "execution_count": 18,
   "metadata": {},
   "outputs": [],
   "source": [
    "def solve_all():\n",
    "    for method in SOLVERS.keys():\n",
    "        for map in range(min(map_file_indices), max(map_file_indices) + 1):\n",
    "            solve(map, method)\n",
    "            "
   ]
  },
  {
   "cell_type": "code",
   "execution_count": 19,
   "metadata": {},
   "outputs": [
    {
     "name": "stdout",
     "output_type": "stream",
     "text": [
      "BFS took 0.0 seconds on map 1 and visited 44 states.\n",
      "7 moves were used: UDDULRR\n",
      "BFS took 0.0 seconds on map 2 and visited 21 states.\n",
      "6 moves were used: LUDDUL\n",
      "BFS took 0.0 seconds on map 3 and visited 122 states.\n",
      "13 moves were used: ULDDUUUURDDDD\n",
      "BFS took 0.0 seconds on map 4 and visited 0 states.\n",
      "No Solution Found!\n",
      "BFS took 0.09 seconds on map 5 and visited 6328 states.\n",
      "15 moves were used: ULDDRDLLLUUURUL\n",
      "BFS took 0.3 seconds on map 6 and visited 17807 states.\n",
      "34 moves were used: UUUUURRRLLLLLLLDDDDDDDDDRDLRRRRRRR\n",
      "BFS took 13.21 seconds on map 7 and visited 644754 states.\n",
      "34 moves were used: RURRDDDDLDRUUUULLLRDRDRDDLLDLLUUDR\n",
      "BFS took 0.09 seconds on map 8 and visited 7419 states.\n",
      "14 moves were used: UURDLDRRDRURDR\n",
      "BFS took 15.98 seconds on map 9 and visited 0 states.\n",
      "No Solution Found!\n",
      "BFS took 3.46 seconds on map 10 and visited 241503 states.\n",
      "46 moves were used: RRRRRDRULURULLLULDRUUULDRDLDRRDRULURURDDRDLLLL\n",
      "DFS took 0.0 seconds on map 1 and visited 11 states.\n",
      "7 moves were used: RLLRDUU\n",
      "DFS took 0.0 seconds on map 2 and visited 10 states.\n",
      "6 moves were used: LLRDUU\n",
      "DFS took 0.0 seconds on map 3 and visited 43 states.\n",
      "13 moves were used: ULDDUUUURDDDD\n",
      "DFS took 0.0 seconds on map 4 and visited 0 states.\n",
      "No Solution Found!\n",
      "DFS took 0.04 seconds on map 5 and visited 3122 states.\n",
      "187 moves were used: LRDLLLLUURRDRRDLLRRDLLLLURRLLDRRRRUULLLRRRDLRDLLLLURRLLDRRRURDLLLLURRULURRRDLRDLLLLURRLLDRRRRULRDLLURRDLLLLURURLDRRRDLLLLUURRDRRULRDLLLLURURDRRDLLRRDLLLLURRLLDRRRRUULDRDLRDLLLLURURDRRDLLL\n",
      "DFS took 0.25 seconds on map 6 and visited 17108 states.\n",
      "1223 moves were used: RRRRDLLLLLLLLLDRRRRRRRRRDLLLLLLLLLDRRRRRRRRRDLRULLLLLLLLLDRRRRLLLLURRRRRRRRRULLLLLLLLLURRRRRRRRRULLLLLLLLLURRRRRRRRRULLLLLLLLLURRRRRRRRRULLLLLLLLLURRRRRRRRRULRDLLLLLLLLLDRRRRRRRRRDLLLLLLLLLDRRRRRRRRRDLLLLLLLLLDRRRRRRRRRDLLLLLLLLLDRRRRRRRRRDLLLDRRLLLRRRURULLLLLLLLLDRRRDRRRLLLLLLURRRRRRRRRULLLLLLLLLURRRRRRRRRULLLLLLLLLURRRRRRRRRULLLLLLLLLURRRRRRRRRULLLLLLLLLURRRRRRRRRULLRRDLLLLLLLLLDRRRRRRRRRDLLLLLLLLLDRRRRRRRRRDLLLLLLLLLDRRRRRRRRRDLLLLLLLLLDRRRRRRRRRDLDLRURULLLLLLLLLURRRRRRRRRULLLLLLLLLURRRRRRRRRULLLLLLLLLURRRRRRRRRULLLLLLLLLURRRRRRRRRULLLRRRDLLLLLLLLLDRRRRRRRRRDLLLLLLLLLDRRRRRRRRRDLLLLLLLLLDRRRRRRRRRDLLLLLLLLLDRRRRRRRRRDLLLLLLLLLDRRRRRRLLLLLLURRRRRRRRRULLLLLLLLLURRRRRRRRRULLLLLLLLLURRRRRRRRRULLLLLLLLLURRRRRRRRRULLLLLLLLLURRRRRRRRRULLLLRRRRDLLLLLLLLLDRRRRRRRRRDLLLLLLLLLDRRRRRRRRRDLLLLLLLLLDRRRRRRRRRDLLLLLLLLLDRRRRRRRRRDLDLRURULLLLLLLLLURRRRRRRRRULLLLLLLLLURRRRRRRRRULLLLLLLLLURRRRRRRRRULLLLLLLLLURRRRRRRRRULLLLLRRRRRDLLLLLLLLLDRRRRRRRRRDLLLLLLLLLDRRRRRRRRRDLLLLLLLLLDRRRRRRRRRDLLLLLLLLLDRRRRRRRRRDLLLLLLLLLDRRRRRRLLLLLLURRRRRRRRRULLLLLLLLLURRRRRRRRRULLLLLLLLLURRRRRRRRRULLLLLLLLLURRRRRRRRRULLLLLLLLLURRURRRRRRLLLLLLLRRRRRRRDRDLLLLLLLLLDRRRRRRRRRDLLLLLLLLLDRRRRRRRRRDLLLLLLLLLDRRRRRRRRRDLLLLLLLLLDRRRRRRRRDLLLLLLL\n",
      "DFS took 14.94 seconds on map 7 and visited 0 states.\n",
      "No Solution Found!\n",
      "DFS took 0.11 seconds on map 8 and visited 8208 states.\n",
      "511 moves were used: RRRRLLLLDRRRRRRURRRRRRRRRRDLLLLLLLLLLLLLLLLDRRRRRRRRRRRRRRLLLLLLLLLLLLLLDRRRRDRDLLLLLLLLURRRRURRRRDLDRDLRDLLLLLLLLDRRRRRRRDRULLLLLLLLURRRRRRURRDLLLLLLLLDRRRRRRRDRULLLLLLLLURRRRURRRRDLLLLLLLLLLLLLLLLDRRRRRRRRRRRRRRLLLLLLLLLLLLLLDRRRRRDLLLLLLLLDRRRRRRRDRULLLLLLLLURRRRURRRRDLDRULLLLLLLLLLLLLLLLDRRRRRRRRRRRRRRDLLLDRRRRRRURRRRRRDRRRDRUULRDLLLLLLLLURRRRRRRRDLLLLLLLLLLLLLLLLDRRRRRRRRRRRRRRDRRDLLRRDLLLLLLLLURRRRRRLLLLLLDRRRRRRRRUULLLLLDRRRRRRURRRRRRRRRRDDLLLLLLLLLLLLLLLLDRRRRDRDLRDLLLLLLLLURRRRRRLLLLLLDRRRRRRRURUL\n",
      "DFS took 15.9 seconds on map 9 and visited 0 states.\n",
      "No Solution Found!\n",
      "DFS took 8.69 seconds on map 10 and visited 475360 states.\n",
      "12192 moves were used: RRRRRLLLLLLLDRRRRRRRRRULRDLLLLLLLLLURURRRRRRRDLLLLLURRRURRULLLLLDRDLLUUURDRDLDRRLLDRRRRRULLLLLLLLDRRRRRRRLLLLLLLDRRRRRRRRRULRDLLURRDLLLLLLLLLURRRRRRULLLLLLURRRRRRRRRDLRDLLLLLLLLLURRRRRRURRDRULRDLLLLLURRLLDRRRRRULLRRDLLLLLURRURRDRDLLLLLLLLLURRRRURLLLLLDRRRRRRRRRULRDLLLLLLLLLURRRRRURDRRDLLLLLURRLLDRRRRRULLLLLLLLDRRRRRDRRRRULLLRRRDLLLLLLLLLURRRRURRRRDLLURDLLLLRRRRDLLLLLLLLLURRRRRRRLLLLLLLDRRRRRRRRRULRDLLLLLLLLLURRRRRURRRDLLLLLURRURLLDRRULDRRRRDLLRRDLLLLLLLLLURRRRRRRLLLLLLLDRRRRRRRRRUULLLLDRRRRRUULRDLLLLLLLLURRRRRRRRRDLLLLURDLLURURDRRDLLLLLLLLURRRRRRRRRDLRDLRDLLLLLLLLLURRRRRRRLLLLLLLDRRRRRRRRURDLLLLLLLLLURRRRRRRURDLLLLLURRLLDRRRRRULLLLLLLLDRRRRRRRRRULLRRDLLLLLLLLLURRRRRRRRDLLLLLUURDLLURRURRDLRDLLLLLLLLDRRRRRRRRRULLDLLURRLLDRRRRRULLLLLLLLDRRRRRRRRRULRDLLLLLLLLLURRRRRRRRDLLLLLUURDLLURRLLDRRULURRRRRDLRULLDRRDLLLLLLLLDRRRRRRRRRUULDLLULLDRRRRRULLLLLLLLDRRRRRRRRRULRDLLLLLLLLLURRRRRRRRDLLLLLURURDLURDLURRLLDRRULDRRLLDRRRRRULLLLLLLLDRRRRRRRRRULRDLLLLLLLLLURRRRRRRRDLLLURRDLLLLLLLLLURRRRRRRRDLLLLLURURDLURRRRRDLRDLLLLLLLLDRRRRRRRRRULLLLURDLURRDRRDLLLLLLLLDRRRRRRRRRULRDLLLLLLLLLURRRRRRRRDLLLLLURRLLURDLURDRRRDLLLLLLLLDRRRRRRRRRUULDLURDLLLLLLLLLURRRRRRRRDLLLLLURRLLDRRRRRULLLLLLLLDRRRRRRRRURULLLLLDRDLLURRLLDRRULURRRRDRDLLLLLLLLDRRRRRRRDRRULRDLLLLLLLLLURRRRRRURRDLLURDLLRRDLLLLLLLLLURRRRRRRLLLLLLLDRRRRRRRRRUULLLLDRRRRRUULLRRDLLLLLLLLDRRRRRRRDRRULRDLLLLLLLLLURRRRRRURRDLLLLLURRRURRULLLLLDRDLLURRLLDRRULDRRRRDLLRRDLLLLLLLLLURRRRRRLLLLLLDRRRRRRRURRDLLLLLLLLLURRRRRRULLLLLLURRRRRRRRRDLLLLDRRRRRULRDLLLLLURRRRDLLLLLLLLLURRRRRURDRRDLLLLLURRRULLDRRULURRRRRDLRDLLLLLLLLURRRRRRRRRDLLLLURDLLURURDRRDLLLLLLLLDRRRRRDRRRRULLLRRRDLLLLLLLLLURRRRURRRRDLLURDLLLLRRRRDLLLLLLLLLURRRRLLLLDRRRRRURRRRDLLLLLLLLLURRRRURRLLLLLLDRRRRRRRRRULLLLDRRRRRULRDLLLLLURRRRDLURULLLLLDRDLLURRLLDRRULURRRRDRDLLRRDLLLLLURRRRDLRDLLLLLLLLLURRRRRRRLLLLLLLDRRRRRRRRURDLLLLLLLLLURRRRRRRURDLLLLLURRRRULLLLDRRRDLLLLLURRRRDLLLLRRRRDLLLLLLLLLURRRURRRRRDLLLLLURRRULLDRRULURRRRRDLRDLLLLLLLLURRRRRRRRRDLLLLURDLLURURDRRDLLLLLLLLDRRRDRRRRRRULLLLLRRRRRDLLLLLLLLLURRURRRRRRDLLURDLLLLLLRRRRRRDLLLLLLLLLURRLLDRRRURRRRRRDLLLLLLLLLURRURLLLDRRRRRRRRRULLLLDRRRRRULLLLRRRRDLLLLLURRRRULLLLLLDRRRRRDLLLLLURRURLLDRRULDRRRRDLLLLLLRRRRRRDLLLLLLLLLURRLLDRRRURRRRRRDLLLLLLLLLURRURLLLDRRRRRRRRRULLLLDRRRRRULLLLRRRRDLLLLLURRRRULLLLLLDRRRRRULLRRDLLLLLLLLDRRRRRLLLLLDRRRRRRRRRULLLRRRDLLLLLLLLLURRRURRRRRDLLLLLURRRURRULLLLLDRDLLURRLLDRRULURRRRRDLRDLLLDRRRRDLLLLRRRRDLLLLLLLLLURRRRRRRLLLLLLLDRRRRRRRRRULRDLLLLLLLLLURRRRRURRRRULLLLDRRRRRUULLRRDLLLLLLLLDRRRRRRRRRDLLRRDLLLLLLLLLURRRRRRRLLLLLLLDRRRRRRRRRUULLLLLLLLLURRRRRRRRDLLLLLURRRURRULLLLLDRDLLURRLLDRRULDRRRRDLLLLLLLLLDRRRRRRRDRRULRDLLLLLLLLLURRRRRRURRRULLLLDRRRRRUUULDRDLLLLLLLLDRRRRRRDRLLLLLLLDRRRRRRRRRULRDLLURRDLLLLLLLLLURRRRRRULLLLLLURRRRRRRRDLLLLLURRRURDRDLRDLLLLLLLLLURRRRRRRLLLLLLLURRRRRRRLLLLLLLDRRRRRRRDRRULRDLLLLLLLLLURRRRRRURURDLLLLLURRRRDLLRRDLLRRDLLLLLLLLLURRRRRRRLLLLLLLDRRRRRRRRRUULLLRRRDLRDLLLLLLLLLURRRRRRRLLLLLLLDRRRRRRRRURDLLLLLLLLLURRRRRRRULLRRDRRDLLLLLLLLLURRRRURRRDRRDLLLLLLLLLURRRULLLURRRRRRLLLLLLDRRRRRRRDRRULRDLLLLLLLLLURRRRRRULLLLLLURRRRRRRRRDLLLLDRRRRRULRDLLLLLURRRRDLLRRDLLLLLLLLLURRRRRRRLLLLLLLDRRRRRRRRRUULLLLDRRRRULLDRRDLLLLLURRRRDLRDLLLLLLLLLURRRRRURDRLLLLLLLDRRRRRDRRRRULLLRRRDLLLLLLLLLURRRRURRRURDLLLLLURRRRDLRDLLLLRRRRDLLLLLLLLLURRRRRRRLLLLLLLDRRRRRRRRRULRDLLLLLLLLLURRRRRURURRDLLLLLURRRRDLLRRDLLRRDLLLLLLLLLURRRRRRRLLLLLLLDRRRRRRRRRUULLLRRRDLRDLLLLLLLLLURRRRRRRLLLLLLLDRRRRRRRRURDLLLLLLLLLURRRRRRRULLRRDRRDLLLLLLLLLURRRRURRRDRRDLLLLLLLLLURRRULLLURRRRRRLLLLLLDRRRRRRRDRRULRDLLLLLLLLLURRRRRRULLLLLLURRRRRRRRRDLLLLDRRRRRULRDLLLLLURRRRDLLRRDLLLLLLLLLURRRRRRRLLLLLLLDRRRRRRRRRUULLLLDRRRRRULLRRDLLLLLURRRRDLRDLLLLLLLLLURRRRRRRLLLLLLLDRRRRRRRRURDLLLLLLLLLURRRRRRRURDLLLLLURRRRULLLLLLLLLDRRRRRRLLLLLLDRRRRRRRRRULLLLDRRRRRULRDLLLLLURRRRDLLLLLLLLLURRRRURRDRRDLLLLLURRRULLDRRULURRRRRDLRDLLLLLLLLDRRRRDRRURRRDLLLLLLLLLURRRRRURLLLLLLDRRRRRRRRRULLLLDRRRRRULRDLLLLLURRURLLDRRULURRRRRDLLRRDLLRRDLLLLLURRRRDLLLLLLLLLURRRRRRLLLLLLDRRRRRRRRRULLLLDRRRRRUULLULLLDRDLLURRLLDRRULURRRRDDRDLRDLLLLLLLLLURRRRRRRLLLLLLLURRRRRRULLLLLLURRRRRRRRRDLLLLDRRRRRULRDLLLLLURRRRDLLLLLLLLLDRRRRRRRDRRULRDLLLLLLLLLURRRRRRURRRULLLLDRRRRRULLRRDLLLLLURRRRDLLLLLLLLLDRRRRRRRLLLLLLLDRRRRRRRRRULLRRDLLLLLLLLLURRRRRURRRRULLLLDRRRRRULLLRRRDLLLLLURRRRDLLLLLLLLLDRRRRRRRLLLLLLLDRRRRRRRRRULRDLLLLLLLLLURRRRRURRRRULLLLDRRRRRULLLLRRRRDLLLLLURRRRDLLLLLLLLLDRRRRRRRLLLLLLLDRRRRRRRRRULRDLLURRDLLLLLLLLLURRRRRRURLLLLLLLDRRRRRRRRRULRULLLLDRRRRRULLLLLRRRRRDLLLLLURRRRDLLRRDLLLLLLLLLURRRRRRRLLLLLLLDRRRRRRRRRUULLLLDRRRRRULLLLLLRRRRRRDLLLLLURRRRDLRDLLLLLLLLLURRRRRRRLLLLLLLDRRRRRRRRURDLLLLLLLLLURRRRRRRURDLLLLLURRRRULLLLLLLLLDRRRLLLDRRRRRRRRRULLLLDRRRRRULLLLRRRRDLLLLLURRRRDLLLLLLLLLURURRDRRRRRDLLLLLURRRRDLLLLLLRRRRRRDLLLLLLLLLURRRRLLLLDRRRRRRRRRULLLLRRRRDLLLLLLLLLURRURRRRRRDLLLLLURRRULLDRRULURRRRRDLRDLLLLLLLLURRRRRRRRRDLLLLURDLLURURDRRDLLLLLLLLDRRRDRRRRRRULLLLLRRRRRDLLLLLLLLLURRURRRRRRDLLURDLLLLLLRRRRRRDLLLLLLLLLURRLLDRRRURRRRRRDLLLLLLLLLURRURRLLLLDRRRRRRRRRULLLLDRRRRRULLLRRRDLLLLLURRRRDLURULLLLLDRDLLURRLLDRRULURRRRDRDLLLLRRRRDLLLLLURRRRULLLLLLDRRRRRDLLLLLURRRRDLRDLLLLLLLLLURRRRRLLLLLDRRRRRRRRRULURDLLDRLLLLLLLDRRRRRDRRRRULLLRRRDLLLLLLLLLURRRRURRRURDLLLLLURRRRDLRDLLLLRRRRDLLLLLLLLLURRRRRLLLLLDRRRRRRRRRULLURRDLLLRRRDLLLLLLLLLURRRRRRRLLLLLLLDRRRRRRRRRULRDLLLLLLLLLURRRRRURRRRULLLLDRRRRRULRDLLLLLURRRRDLLLLLLLLLDRRRRRRRLLLLLLLDRRRRRRRRRULRDLLUURRDLLLLLLLLLURRRRRULLLLLURRRRRRDLLLLLLDRRRRRDRRRRULLLRRRDLLLLLLLLLURRRRURRURRRDLLLLDRRRRRULRDLLLLLURRRRDLLLLRRRRDLLLLLLLLLURRRRLLLLDRRRRRURRRRDLLLLLLLLLURRRRULLLLURRRRRRDRRDLLLLLURRRRDLLLRRRDLLLLLLLLLURRRRRLLLLLURRRRRRLLLLLLDRRRRRDRRRRULLLRRRDLLLLLLLLLURRRRURRURRRDLLLLDRRRRRULRDLLLLLURRRRDLLLLRRRRDLLLLLLLLLURRRRLLLLDRRRRRURRRRDLLLLLLLLLURRRRULLLLURRRRRRDRRDLLLLLURRRRDLLLRRRDLLLLLLLLLURRRRRLLLLLURRRRURDRDRRRDLLLRRRDLLLLLLLLLURRRRRLLLLLURRRRURDRRRRDLLDLURRRDLLLLLLLLLURRRRURRLLLLLLDRRRDRRURRRRDLLLLLLLLLURRRULLLURRRRRRRDRRULLLLDRRRRRULLLDRRRRDLDLLURLLRRDRRULRDLLLLLLLLLURRRURRRDLLRRRLLLLRRRRDRRULRDLLLLLLLLLURRLLDRRRRRRRRRULLRRDLLLLLLLLLURRRLLLDRRRRRRRRRULLLRRRDLLLLLURRRLLLLLLLDRRRRRRRRRULRDLLLLLLLLLURRRRRULRRRRRDLLRRDLLLLLLLLLURRRRRRRLLLLLLLDRRRRRRRRRUULLLLLLRRRRRRDLRDLLLLLLLLLURRRRRRRLLLLLLLDRRRRRRRRURDLLLLLLLLLURRRRRRRULLLLLRRRRRDRRDLLLLLLLLLUURRRLLLURRRRRRRRDLLLLLURRRRDLRDLLLLLLLLLURRURRRRDLLRRURRDLLLLLURRRRULLLLLLLLLDRRRDRRRRLLLLLLLDRRRLLLDRRRRRRRRRULLLLLRRRRRULRDLLLLLLRRRRRRDLLLLLLLLLURURRRRRRLLLLLLLDRDRRRRRRRRULLLLLLLRRRRRRRDLLLLLLLLLUURRRRRRRURDLLLLLURRRRDLRDLLLLLLLDLLUURRRRRRURDRRDLLRRDLLLLLLLLLURLDRRRRRRRRRULLLRRRDLLLLLLLLLURRLLDRRRRRRRRRULLLLRRRRDLLLLLLURLLLLDRRRRRRRRRULLLLRRRRDLLLLLLLLLURRURRRRRLLLLLLLDRRRDRRRRRRULLLLLRRRRRDLLLLLLLLLURRURRRRRURDLLLLLURRRRDLRDLLLLLLRRRRRRDLLLLLLLLLURRLLDRRRURRRRRRDLLLLLLLLLURRURRLLLLDRRRRRRRRRULLRRDLLLLLLLLLURRRRURRDRRRDLLLRRRDLLLLLLLLLURRRRRLLLLLURRRRURDRRRRDLLDLURRRDLLLLLLLLLURRRRURRLLLLLLURRRRRRRDRRDLDLLLLLLLLURRRRRLLLLLDRRRRRRRUURRDLLLRRRDLLLLLLLLLURRRRRLLLLLURRRRRRULLLLLLURRRRRRRRRDLLLLDRRRRRULRDLLLLLURRRRDLLLLLLLLLDRRRRRDRRRRULLLRRRDLLLLLLLLLURRRRURRRRRULLLLDRRRRRULLRRDLLLLLURRRRDLLLLLLLLLDRRRRDRRRRRULLLLRRRRDLLLLLLLLLURRRURRRRRRULLLLDRRRRRULLLRRRDLLLLLURRRRDLLLLLLLLLDRRRRLLLLDRRRRRRRRRULLLLRRRRDLLLLLURRRRRDLLLLLLLLLURRRURRRLLLLLLDRRRRRRRRRULLRRDLLLLLLLLLURRRULLLURRRRRRRRRDLLLLDRRRRRULLLLRRRRDLLLLLURRRRDLLLRRRDLLLLLLLLLURRRRRLLLLLDRRRRRRURRRDLLLLLLLLLURRRRRURLLLRRRDRRRDLLLLLLLLLURURRRLLLLDRRRRRRRRRULLLLDRRRRULLDLRDRRRDLLLLLLLLLURRULLURRRRRRRRRDLLLLDRRRRRULRDLLLLLURRRRDLLLLLLLLLURRRURRDLLRRDRRRRDLLLLLLLLLURURLLURRRRRRRRRDLLLLDRRRRRULLRRDLLLLLURRRRDLLLLLLLLLURRRLLLDRRRRRRRRRULLLLDRRRRRULLULLDRRLLLLLLDRRRDRRRRRRULLLLLRRRRRDLLLLLLLLLURRURRRRURRRDLLLLDRRRRRULRDLLLLLURRRRDLLLLLLRRRRRRDLLLLLLLLLURRLLURRRRRURDRRDLLLLLURRRRDLLLRRRDLLLLLLLLLURRRLLLDRRRRRRRRRULLLURRDLLLLLURRRRULLLLLLLLLDRRRRRDRRRRDLLLLRRRRDLLLLLLLLLURRULLURRRRRRRRDLLLLLURRRRDLLLLLLRRRRRRDLLLLLRRRRRDLLLLLLLLLURRRRRLLLLLDRRRRRRRRRULLLRRRDLLLLLLLLLURRRURRRRRRULLLLDRRRRRULLLLLLLLDRRLLURRRDRDRLLRRRLLLLRRRRRLLLLLDRRRRRRRUULLLLLLLLLDDRURRRRRRDRRULRDLLLLLLLLLURURRRRRRRRDLLRRDLLLLLLLLLURRRRRRRLLLLLLLDRRRRRRRRRUULLLLLLLLLURRRRLLLLDRRRRRRRRRULLLLDRRRRRULLLLLRRRRRDLLLLLURRRRDLLLLLLLLLDRRRRRRRDRRULRDLLURRDLLLLLLLLLURRRRRULLLLLURURDRRRRRRDLLLLLURRRRDLLRRDLLLLLLLLLURRRLLLDRRRRRRRRRULLURDLLLLLURRRRULLLLLLLLLDRRRRRRDRRRDLLDLLLLLLLURRRULLLURRRRRDLLLRRRRRRRDLLLRRRDLLLLLLLLLURRRRRLLLLLDRRRRRRURRRDLLLLLLLLLURRRRRURLLLLDRRRRRRRDLLLLLLLLLUURLDRRRRRRRURRDLLLLLLLLLURURRRRRDLLLLRRRRRRRDLLLLLLLLLUURRRRRRURRRDLLLLDRRRRRULRDLLLLLURRRRDLLLLLLLDRRRRRRRDLLLLLLLLLURURRRRRRRRDLLLLLLLLLUUURRRRRRRRRDLLLLDRRRRRULLRRDLLLLLURRRRDLLLLLLLLLURLDRRRRRRRRRULLLLDRRRRRULLLRRRDLLLLLURRRRDLLLLLLLLLURRLLDRRRRRRRRRULLLLDRRRRRULLLULLDRLLLLDRRRLLLDRRRRRRRRRULLLLLRRRRRULLLLDRRRRRULLLRRRDLLLLLURRRRDLLLLLLRRRRRRDLLLLLLLLLURRRRRRLLLLLLDRRRRRRRRRULLRRDLLLLLLLLLURRRULLLURRRRRRRRRDLLLLDRRRRRULLLLRRRRDLLLLLURRRRDLLLRRRDLLLLLLLLLURRRRRRRLLLLLLLDRRRRRRRRRULRDLLLLLLLLLURRRRRURRRDLLLLLURRRRULLLLLLLLLDRRRRLLLLURRRRRRRRRDLLLLDRRRRRULLLRRRDLLLLLURRRRULLLLLDRRRRDLLLLLURRRRDLLRRDLLLLLLLLLURRRURRRDRRRDLLLRRRDLLLLLLLLLURRRRRRRLLLLLLLDRRRRRRRRRULRDLLLLLLLLLURRRRRURRRRULLLLDRRRRRULLLLLLLLDRRRRLLLLURRRRRDRDRLLRRDRRULRDLLLLLLLLLURRRURRRDLLRRRLLLLRRRRDRRULRDLLLLLLLLLURRLLDRRRRRRRRRULLRRDLLLLLLLLLURRRLLLDRRRRRRRRRULLLRRRDLLLLURRRRDLLLLLURRRRRDLLLLLLLLLURRRULLLURRRRRDLRRRRRDLLLLRRRRDLLLLLLLLLURRRRRRRLLLLLLLDRRRRRRRRRULRDLLLLLLLLLURRRRRURRRRULLLLDRRRRRULLLLDLRRRRRRDLLRRDLLLLLLLLLURRRRRRRLLLLLLLDRRRRRRRRRUULLLLLLLRRRRRRRDLRDLLLLLLLLLURRRRRRRLLLLLLLDRRRRRRRRURDLLLLLLLLLURRRRRRRULLLLLURRRRRRDLLLLLURRRRDLRDLLLLLLLLLURLDRRRRRRRRRULLRRDLLLLLLLLLURRLLDRRRRRRRRRULLLRRRDLLLLLLLLLURRURRDRRRLLLLRRRRDRRDLLLLLLLLLURRURRRRRDRRDLLLLLLLLLURULURRLLURRRRRRRRRDLLLLDRRRRRULLLLLRRRRRDLLLLLURRRRDLRDLLLLLLLLLURRRRRRURRDLLLLLURRRRULLLLLLLDRRRRDLLLLRRRRURRDLLLLLURRRRULLLLLLLLLDRDRRRRRRLLLLLLLDRLDRRRRRRRRRULLLLLLLRRRRRRRULRDLLLLLLLDLLUUURRRRRRRDRRDLLRRDLLLLLLLLLURLDRRRRRRRRRULLLRRRDLLLLLLLLLURRLLDRRRRRRRRRULLLLRRRRDLLLLLURRRRRDLLLLLLLLLURRURRRLLLLLDRRRLLLDRRRRRRRRRULLLLLRRRRRULLLRRRDLLLLLLRRRRRRDLLLLLLLLLURRLLURRRURRDRRRRULLLLDRRRRRULLLLLLLLDRRRRDLLRRDRRRRRULLLLRRRRDLLLLLLLLLURLDRRRRRRRRRULLLLLRRRRRDLLLLLLLURRLLLLDRRRRRRRRRULLLLRRRRDLLLLLLLLLURRURRRRRRRDLLLLLRRRRRDLLLLLLLLLURRRRRRRLLLLLLLDRRRRRRRRRULRDLLLLLLLLLURRRRRURRRRULLLLDRRRRRULLLLLLRRRRRRDLLLLLURRRRDLLLLLLLLLDRRRRRRRLLLLLLLDRRRRRRRRRULRDLLURRDLLLLLLLLLURRRRRRURLLLLLLLDRRRRRRRRURDLLLLLLLLLURRRRRRRURDLLLLLURRRRULLLLLLLLLDRLDRRRRRRRRRULLLLDRRRRRULLLLLULDRRRRRRDLLLLLURRRULLDRRULURRRRRDLRDLLLLLLLLURRRRRRRRRDLLLLURDLLURURDRRDLLLLLLLLDRDRRRRRRRRULLLLLLLRRRRRRRDLLLLLLLLLUURRRRRRRRDLLURDLLLLLLLDRRRRRRRDLLLLLLLLLURURRRRRRRRDLLLLLLLLLUURLDRRRRRRRRRULLLLDRRRRRULLLLLLRRRRRRDLLLLLURRRRULLLLLLLLDRRRRRRRDLLLLLURRURLLDRRULDRRRRDLLLLLLLDRRRRRRRDLLLLLLLLLUUURRRRRRRRULLRRDLLLLLLLLDRLDRRRRRRRRRULLLLLLLRRRRRRRDLLLLLLLLURRRRRRRRDLLLLLLLLLUURRRRRRLLLLLLDRRRRRRRRRULLLLDRRRRRULRDLLLLLURRRRDLLLLLLLLLURRRRURRDRRDLLLLLURRRURRULLLDRRRDLLLLLLLLDRRRRRRRLLLLLLLDRRRRRRRRRULRDLLLLLLLLLURRRRRURRRDLLLLLURURDLURRRRRDLLDLRRDLLRRDLLLLLLLLLURRRRRRRLLLLLLLDRRRRRRRRRUULLDRRRUULLLLDRRULDRRLLDRRRRURDLRULLLLLLLLLDRRRRRRRRDLLLLLUURDLLURRRDRDLRDLLLLLLLLLURRRRRRRLLLLLLLURRRRRRRURDLLLLLURRLLDRRRRRULLLLLLLLDRRRRRRRRRDLRDLLLLLLLLLURRRRRRURRRULLRRDLLLLLLLLLDRRRRRRRLLLLLLLDRRRRRRRRRULRDLLURRDLLLLLLLLLURRRRRULLLLLURRRRRRRRDLLLLURRRDLLRRDLLLLLLLLLURRRRRRRLLLLLLLDRRRRRRRRRUULLLLDRRRRRUULLLLDRRUULRDLDRRRRDLRDLLLLLLLLLURRRRRRRLLLLLLLDRRRRRRRRURDLLLLLLLLLURRRRRRRURDLLLLLURRRULLDRRULURRRRRDLRDLLLLLLLLDRRRRRRRRRULLLLURDLLURURDRRDLLLLLLLLDRRRRRRRRRULRDLLLLLLLLLURRRRRRRRDLLLLLURRLLURULULDRRDLDRRDRURDLLLLLLLLLURRRRRRRRDLLLLLURRURLDRRDLLLLLLLLLURRRRRRRRDLLLLLURURDLURRRRDRDLLLLLLLLDRRRRRRRDRRULRDLLLLLLLLLURRRRRRURRDLLLLLURRRURRULLLLLDRDLLURRRRDLDRRDLLRRDLLLLLLLLLURRRRRRRLLLLLLLDRRRRRRRRRUULLLLLLLLLURRRRRRRRDLLLLLURRRURRULLLLLDRULULDRRDLDRRRRDLLLLLLLLLDRRRRRRRDRRULLRRDLLLURRRDLLLLLLLLLURRRRRULLLLLURRRRRRRRDLLLLLURRRRDLLLRRRDLLLLLLLLLURRRRURRRRDLLLLLURRRURRULLLLLDRDLLURRRRDLLLLLLLLDRRRRRLLLLLDRRRRRRRRRULLLRRRDLLLLURRRRDLLLLLLLLLURRRRURRLLLLLLDRRRRRRRRRULLLLDRRRRRULRDLLLLLURRRRDLURULLLLLDRULULDRRDLDRRRRDLLLLLLLLLURRRRRRLLLLLLDRRRRRRRRRULLLLDRRRRRULLRRDLLLLLURRRRDLURULLLLLDRDLLURRRRDLLLRRRDLLLLLURRRRDLLLLLLLLLURRRURDRRRRDLLLLLURRRRDLLLLLRRRRRDLLLLLLLLLURRURRRRRRDLLLLLURRRURRULLLLLDRULULDRRDLDRRRRDLLLLLLRRRRRRDLLLLLLLLLURRRLLLDRRRRRRRRRULLLLURRRDLLLLLURRRRULLLLLLLLLDRRRRD\n",
      "IDS took 0.0 seconds on map 1 and visited 11 states.\n",
      "7 moves were used: RLLRDUU\n",
      "IDS took 0.0 seconds on map 2 and visited 10 states.\n",
      "6 moves were used: LLRDUU\n",
      "IDS took 0.01 seconds on map 3 and visited 37 states.\n",
      "13 moves were used: ULDDUUUURDDDD\n",
      "IDS took 0.01 seconds on map 4 and visited 0 states.\n",
      "No Solution Found!\n",
      "IDS took 0.23 seconds on map 5 and visited 376 states.\n",
      "25 moves were used: LRDLLLLUURRDLRDRRDLLLULUU\n",
      "IDS took 7.24 seconds on map 6 and visited 2116 states.\n",
      "158 moves were used: RRRRDLLLLLLLLLDRRRRRRRRRDLLLLLLLLLDRRRRRRRRRDLRULLLLLLLLLDRRRRLLLLURRRRRRDRRLLLLLLLRRRRRRRURULLLLLLLLLURRRRRRRRRULLLLLLLLLURRRRRRRRRULLLLLLLLLURULURRULRRRRRRR\n",
      "IDS took 6.05 seconds on map 7 and visited 0 states.\n",
      "No Solution Found!\n",
      "IDS took 0.0 seconds on map 8 and visited 0 states.\n",
      "No Solution Found!\n",
      "IDS took 0.0 seconds on map 9 and visited 0 states.\n",
      "No Solution Found!\n",
      "IDS took 0.0 seconds on map 10 and visited 0 states.\n",
      "No Solution Found!\n",
      "A* took 0.0 seconds on map 1 and visited 14 states.\n",
      "7 moves were used: UDDULRR\n",
      "A* took 0.0 seconds on map 2 and visited 10 states.\n",
      "6 moves were used: LUDDUL\n",
      "A* took 0.0 seconds on map 3 and visited 17 states.\n",
      "13 moves were used: ULDDUUUURDDDD\n",
      "A* took 0.0 seconds on map 4 and visited 0 states.\n",
      "No Solution Found!\n",
      "A* took 0.0 seconds on map 5 and visited 39 states.\n",
      "19 moves were used: LULDDULDLUUDDRRRDLL\n",
      "A* took 0.0 seconds on map 6 and visited 228 states.\n",
      "34 moves were used: DDDDDRRRLLLLLLLUUUUUUURUUULRRRRRRR\n",
      "A* took 0.4 seconds on map 7 and visited 17878 states.\n",
      "38 moves were used: RURRDLLLRRRDDDLDRUUUULLDRDRDDLLDLLUUDR\n",
      "A* took 0.0 seconds on map 8 and visited 157 states.\n",
      "28 moves were used: URURDLDRRRLLDDLLURRDRUDRURDD\n",
      "A* took 13.2 seconds on map 9 and visited 510181 states.\n",
      "81 moves were used: RRLURRUUUULUULDLDRRURDDDDRRDDRDLDLURULDRRULDLLUURURDLDRDDLULURURRURDRDLDLLULURURD\n",
      "A* took 1.07 seconds on map 10 and visited 45538 states.\n",
      "46 moves were used: RRRRRDRULURULLLULDRUUULDRDLDRRDRULURURDDRDLLLL\n"
     ]
    }
   ],
   "source": [
    "solve_all() # Solve all maps using all methods"
   ]
  },
  {
   "cell_type": "markdown",
   "metadata": {},
   "source": [
    "## Report"
   ]
  },
  {
   "cell_type": "markdown",
   "metadata": {},
   "source": [
    "*Question 1*\n",
    "\n",
    "what is the defenition of state in this problem?\n",
    "\n",
    "The position of the player and boxes are assumed to be the state of the problem.\n",
    "\n",
    "if we take the whole plan as state it would take too much memory and time to process and compare states.\n",
    "\n",
    "\n",
    "\n",
    "\n",
    "\n"
   ]
  },
  {
   "cell_type": "markdown",
   "metadata": {},
   "source": [
    "*Question 2*\n",
    "\n",
    "how do you define the actions based on the states you defined?\n",
    "\n",
    "actions are moving in one of the four directions up, down, left, right\n"
   ]
  },
  {
   "cell_type": "markdown",
   "metadata": {},
   "source": [
    "*Question 3*\n",
    "\n",
    "explain your way of modeling the problem?\n",
    "\n",
    "initial state is where we are starting and basically the state the game is given to us\n",
    "the goal state is where all boxes are on their coresponding positions.\n",
    "the actions are moving in four directions of up, down, left, right which can move boxes if there are any in the path\n",
    "\n"
   ]
  },
  {
   "cell_type": "markdown",
   "metadata": {},
   "source": [
    "*Question 4*\n",
    "\n",
    "how can we improve the problem and search space?\n",
    "\n",
    "some states can reach goal once they are reached. for example if a box is moved to a corner it can't be brought out of it.\n",
    "\n",
    "so we can skip this states once we reach them.\n",
    "\n"
   ]
  },
  {
   "cell_type": "markdown",
   "metadata": {},
   "source": [
    "*Question 5*\n",
    "\n",
    "explain each of the implemented algorithms and their differences.\n",
    "\n",
    "BFS always finds the shortest path to the answer because it expands nodes at each level\n",
    "and that's exactly the reason that it takes too much memory\n",
    "\n",
    "DFS tries to find a path by expanding the node at hand so the memory it takes is much less than BFS, yet it doesn't find the optimal solution and may take too much time to find one!\n",
    "\n",
    "IDS has BFS optimality and DFS space minimization. it performs DFS to a certain level at each iteration\n",
    "\n",
    "A* uses a heuristic function to estimate how close we are to a desired solution and it explands the \"better\" nodes\n"
   ]
  },
  {
   "cell_type": "markdown",
   "metadata": {},
   "source": [
    "*Question 6*\n",
    "\n",
    "DFS solutions are so longer than bfs\n",
    "ids has optinmal solutions like bfs with less memory"
   ]
  },
  {
   "cell_type": "markdown",
   "metadata": {},
   "source": [
    "*Question 7*\n",
    "\n",
    "explain the heuristc you used in informed search and study them by the property of being admissible and consistent?\n",
    "\n",
    "I used a combination of manhatan distance of the boxes and their goal and also the distance from the box to one side of the portal and distance from the other side of portal to the goal\n",
    "\n",
    "then took the minimum of these two distances and calculated the sum over all boxes\n",
    "\n",
    "it's consistent both consistent and admisable as it statisfies the triangle inequality and also there is no overestimation as the this heusitic reaches 0 when the box has reached the goal.\n",
    "\n",
    "\n"
   ]
  },
  {
   "cell_type": "markdown",
   "metadata": {},
   "source": [
    "*Question 8*\n",
    "\n",
    "comapre the algorithms \n",
    "\n",
    "bfs solutions are so clean and short,\n",
    "for some maps the bfs is faster and for some dfs is faster\n",
    "\n",
    "ids is faster than bfs and dfs in general \n",
    "\n",
    "a* is the fastest and finds fairly clean solutions "
   ]
  },
  {
   "cell_type": "markdown",
   "metadata": {},
   "source": [
    "*Quesion 9*\n",
    "\n",
    "|       |  number of visited states | output | time |\n",
    "|-------|----------|----------|----------|\n",
    "|BFS\t| 123000 | 21 | 3.8 |\n",
    "|DFS\t| 72000 | 2700 | 2 |\n",
    "|IDS\t| 113000 | 21 | 4 |\n",
    "|A*  \t| 1000 | 25 | 1.5 |"
   ]
  },
  {
   "cell_type": "code",
   "execution_count": null,
   "metadata": {},
   "outputs": [],
   "source": []
  },
  {
   "cell_type": "code",
   "execution_count": null,
   "metadata": {},
   "outputs": [],
   "source": []
  }
 ],
 "metadata": {
  "kernelspec": {
   "display_name": "Python 3",
   "language": "python",
   "name": "python3"
  },
  "language_info": {
   "codemirror_mode": {
    "name": "ipython",
    "version": 3
   },
   "file_extension": ".py",
   "mimetype": "text/x-python",
   "name": "python",
   "nbconvert_exporter": "python",
   "pygments_lexer": "ipython3",
   "version": "3.13.0"
  }
 },
 "nbformat": 4,
 "nbformat_minor": 2
}
